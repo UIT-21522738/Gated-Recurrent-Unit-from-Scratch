{
 "cells": [
  {
   "cell_type": "code",
   "execution_count": null,
   "id": "2a694e41-6cbc-40e4-88c3-1b7983997f16",
   "metadata": {},
   "outputs": [],
   "source": [
    "import pyspark"
   ]
  },
  {
   "cell_type": "code",
   "execution_count": null,
   "id": "d96bac57-0ed7-4d0e-aba7-0cfd7fd76bf1",
   "metadata": {},
   "outputs": [],
   "source": [
    "from pyspark import SparkContext, SparkConf"
   ]
  },
  {
   "cell_type": "code",
   "execution_count": null,
   "id": "e4f3b666-6885-4378-bd98-06b778427466",
   "metadata": {},
   "outputs": [],
   "source": [
    "from pyspark.sql import SparkSession, Row\n",
    "from pyspark.sql.types import StructType, StructField, StringType, DateType, FloatType\n",
    "from pyspark.sql.functions import lit, array, explode, min as spark_min, max as spark_max, col"
   ]
  },
  {
   "cell_type": "code",
   "execution_count": null,
   "id": "e1146004-a7ea-434a-b9eb-fb672ea7e9a9",
   "metadata": {},
   "outputs": [],
   "source": [
    "schema=StructType([    \n",
    "    StructField('dateTime', DateType(), True),\n",
    "    StructField('open', FloatType(), True),\n",
    "    StructField('high', FloatType(), True),\n",
    "    StructField('low', FloatType(), True),\n",
    "    StructField('close', FloatType(), True),\n",
    "    StructField('volume', FloatType(), True),\n",
    "])"
   ]
  },
  {
   "cell_type": "code",
   "execution_count": null,
   "id": "e0c6db2a-1883-46d5-a524-55fc52d01b35",
   "metadata": {},
   "outputs": [],
   "source": [
    "df = spark.read.csv(\"/user/root/input/output_BTCUSDT.csv\", sep=',',header=True,schema=schema,inferSchema=True)"
   ]
  },
  {
   "cell_type": "code",
   "execution_count": null,
   "id": "71ad6130-a36d-4969-b69b-3663d863c153",
   "metadata": {},
   "outputs": [],
   "source": [
    "df.show()"
   ]
  },
  {
   "cell_type": "code",
   "execution_count": null,
   "id": "e5735565-3e83-46d6-b1eb-30bd270b828e",
   "metadata": {},
   "outputs": [],
   "source": [
    "#  check null & NaN\n",
    "from pyspark.sql import functions as F\n",
    "df.select(*[\n",
    "    (\n",
    "        F.count(F.when((F.isnan(c) | F.col(c).isNull()), c)) if t not in (\"timestamp\", \"date\")\n",
    "        else F.count(F.when(F.col(c).isNull(), c))\n",
    "    ).alias(c)\n",
    "    for c, t in df.dtypes if c in df.columns\n",
    "]).show()"
   ]
  },
  {
   "cell_type": "code",
   "execution_count": null,
   "id": "c206c00a-5da8-4c2f-9a6b-9965e02e97de",
   "metadata": {},
   "outputs": [],
   "source": [
    "def length(data):\n",
    "    count = 0\n",
    "    for n in data:\n",
    "        count+=1\n",
    "    return count\n",
    "def sum(data):\n",
    "    sum = 0\n",
    "    for value in data:\n",
    "        sum+=value\n",
    "    return sum\n",
    "def min(data):\n",
    "    min = data[0]\n",
    "    for i in range(1, length(data)):\n",
    "        if min > data[i]:\n",
    "            min = data[i]\n",
    "\n",
    "    return min\n",
    "\n",
    "def max(data):\n",
    "    max = data[0]\n",
    "    for i in range(1, length(data)):\n",
    "        if max < data[i]:\n",
    "            max = data[i]\n",
    "\n",
    "    return max\n",
    "\n",
    "def qsort(data):\n",
    "    if len(data) <= 1:\n",
    "        return data\n",
    "    \n",
    "    pivot = data[0]\n",
    "    \n",
    "    left = [i for i in data[1:] if i <= pivot]\n",
    "    right = [i for i in data[1:] if i > pivot]\n",
    "    \n",
    "    return qsort(left) + [pivot] + qsort(right)"
   ]
  },
  {
   "cell_type": "code",
   "execution_count": null,
   "id": "1468860f-99f1-4d6a-aa78-968d3e0c06e4",
   "metadata": {},
   "outputs": [],
   "source": [
    "def describe(data):\n",
    "    description = {}\n",
    "    col_values = []\n",
    "    dem = 0\n",
    "    for col in data.columns:\n",
    "        if dem == 0:\n",
    "            dem += 1\n",
    "            continue \n",
    "            \n",
    "        col_values = [element[col] for element in data.select(col).collect()]\n",
    "        count = length(col_values)\n",
    "        mean = sum(col_values) / count\n",
    "        std = (sum((x - mean) ** 2 for x in col_values) / (count - 1)) ** 0.5\n",
    "        min_val = min(col_values)\n",
    "        max_val = max(col_values)\n",
    "        sorted_values = qsort(col_values)\n",
    "        q25 = sorted_values[int(0.25 * (count - 1))]\n",
    "        median = sorted_values[int(0.5 * (count - 1))]\n",
    "        q75 = sorted_values[int(0.75 * (count - 1))]\n",
    "    \n",
    "        description[col] = {\n",
    "            'count': count,\n",
    "            'mean': mean,\n",
    "            'std': std,\n",
    "            'min': min_val,\n",
    "            '25%': q25,\n",
    "            '50%': median,\n",
    "            '75%': q75,\n",
    "            'max': max_val,\n",
    "        }\n",
    "\n",
    "\n",
    "    return description"
   ]
  },
  {
   "cell_type": "code",
   "execution_count": null,
   "id": "9f5ff031-a7fe-48d6-9e3a-439f00168149",
   "metadata": {},
   "outputs": [],
   "source": [
    "des_data = describe(df)"
   ]
  },
  {
   "cell_type": "code",
   "execution_count": null,
   "id": "9b155498-4fb7-43a6-86ea-4445e82d3de9",
   "metadata": {},
   "outputs": [],
   "source": [
    "from tabulate import tabulate\n",
    "def show(data):\n",
    "    headers = [\"Metric\"] + list(data.keys())\n",
    "    rows = []\n",
    "    \n",
    "    metrics = list(data['open'].keys())\n",
    "    for metric in metrics:\n",
    "        row = [metric]\n",
    "        for key in data.keys():\n",
    "            row.append(data[key][metric])\n",
    "        rows.append(row)\n",
    "    \n",
    "    print(tabulate(rows, headers=headers, tablefmt=\"grid\"))\n",
    "\n",
    "show(des_data)"
   ]
  },
  {
   "cell_type": "code",
   "execution_count": null,
   "id": "9348702b-2176-49b2-96dd-bf7c025cf0b3",
   "metadata": {},
   "outputs": [],
   "source": [
    "import matplotlib.pyplot as plt\n",
    "import matplotlib.dates as mdates\n",
    "# Hiển thị biểu đồ về giá theo ngày\n",
    "fig = plt.figure(figsize=(10, 5))\n",
    "plt.plot(df.select('dateTime').collect(),df.select('close').collect())\n",
    "plt.xlabel('Date')\n",
    "plt.ylabel('Bitcoin Price')\n",
    "plt.gca().xaxis.set_major_formatter(mdates.DateFormatter(\"%Y-%m\"))\n",
    "plt.title('Bitcoin Price')\n",
    "plt.show()"
   ]
  },
  {
   "cell_type": "markdown",
   "id": "558de0a8-1a67-4004-a985-27f0de57b588",
   "metadata": {},
   "source": [
    "# Tiền xử lý dữ liệu"
   ]
  },
  {
   "cell_type": "markdown",
   "id": "ab4086e9-8efd-4847-8f08-5538db7e3929",
   "metadata": {},
   "source": [
    "## Chuẩn hóa dữ liệu"
   ]
  },
  {
   "cell_type": "code",
   "execution_count": null,
   "id": "613a485a-0631-4cc9-84df-b20813536434",
   "metadata": {},
   "outputs": [],
   "source": [
    "# Hàm chuẩn hóa dữ liệu\n",
    "def min_max_scaling(df, min_vals, max_vals):\n",
    "    for column in df.columns:\n",
    "        if column != \"dateTime\":\n",
    "            min_val = min_vals[column]\n",
    "            max_val = max_vals[column]\n",
    "            df = df.withColumn(column, (col(column) - min_val) / (max_val - min_val))\n",
    "    return df"
   ]
  },
  {
   "cell_type": "code",
   "execution_count": null,
   "id": "efa94cdf-fac4-452d-a5ed-e179fbed1e4c",
   "metadata": {},
   "outputs": [],
   "source": [
    "# Tính giá trị min và max cho mỗi cột\n",
    "min_values = df.select([spark_min(col(c)).alias(c) for c in df.columns if c != \"datetTime \"]).first()\n",
    "max_values = df.select([spark_max(col(c)).alias(c) for c in df.columns if c != \"datetTime \"]).first()"
   ]
  },
  {
   "cell_type": "code",
   "execution_count": null,
   "id": "da41af05-30fe-4175-b332-d53e7feb2ff8",
   "metadata": {},
   "outputs": [],
   "source": [
    "dataset_norm = min_max_scaling(df, min_values, max_values)"
   ]
  },
  {
   "cell_type": "code",
   "execution_count": null,
   "id": "01008f6a-666b-4df1-8f07-56aace2710b0",
   "metadata": {},
   "outputs": [],
   "source": [
    "dataset_norm.show()"
   ]
  },
  {
   "cell_type": "markdown",
   "id": "19fc4a39-52ac-46d1-99eb-0b9ce0d02b10",
   "metadata": {},
   "source": [
    "## Vẽ sơ đồ"
   ]
  },
  {
   "cell_type": "code",
   "execution_count": null,
   "id": "9b947aa6-ce65-418b-9f85-60d7ae513698",
   "metadata": {},
   "outputs": [],
   "source": [
    "fig = plt.figure(figsize=(10, 5))\n",
    "plt.plot(dataset_norm.select('dateTime').collect(), dataset_norm.select('close').collect())\n",
    "plt.xlabel('Date')\n",
    "plt.gca().xaxis.set_major_formatter(mdates.DateFormatter(\"%Y-%m\"))\n",
    "plt.title('Data Normalized')\n",
    "plt.show()"
   ]
  },
  {
   "cell_type": "markdown",
   "id": "b8966603-0ef7-44e2-a2bb-b7e5456082dc",
   "metadata": {},
   "source": [
    "## Chia dữ liệu"
   ]
  },
  {
   "cell_type": "code",
   "execution_count": null,
   "id": "85574326-9499-45be-a354-bfd29a01df24",
   "metadata": {},
   "outputs": [],
   "source": [
    "train_size = 0.8\n",
    "count_data = length(dataset_norm.collect())\n",
    "train_count = int(train_size * count_data)\n",
    "\n",
    "training_data = dataset_norm.limit(train_count)\n",
    "\n",
    "testing_data = dataset_norm.subtract(training_data).orderBy('dateTime')"
   ]
  },
  {
   "cell_type": "markdown",
   "id": "4f9f9698-5bf6-4c7b-92db-4e6a0443fe46",
   "metadata": {},
   "source": [
    "## Vẽ biểu đồ các tập dữ liệu đã chia"
   ]
  },
  {
   "cell_type": "code",
   "execution_count": null,
   "id": "422824c8-a430-4730-ba65-2810cd0f0ba7",
   "metadata": {},
   "outputs": [],
   "source": [
    "# Train\n",
    "fig = plt.figure(figsize=(10, 5))\n",
    "plt.plot(training_data.select('dateTime').collect(), training_data.select('close').collect())\n",
    "plt.xlabel('Date')\n",
    "plt.gca().xaxis.set_major_formatter(mdates.DateFormatter(\"%Y-%m\"))\n",
    "plt.title('Data Training')\n",
    "plt.show()"
   ]
  },
  {
   "cell_type": "code",
   "execution_count": null,
   "id": "803122df-5eb9-41dc-8639-6df062f4018f",
   "metadata": {},
   "outputs": [],
   "source": [
    "# Test\n",
    "fig = plt.figure(figsize=(10, 5))\n",
    "plt.plot(testing_data.select('dateTime').collect(), testing_data.select('close').collect())\n",
    "plt.xlabel('Date')\n",
    "plt.gca().xaxis.set_major_formatter(mdates.DateFormatter(\"%Y-%m\"))\n",
    "plt.title('Data Testing')\n",
    "plt.show()"
   ]
  },
  {
   "cell_type": "markdown",
   "id": "d5131d80-71c0-4df2-9a8c-dcc2db1754d6",
   "metadata": {},
   "source": [
    "## Find lags"
   ]
  },
  {
   "cell_type": "code",
   "execution_count": null,
   "id": "639463b8-9ff1-4b98-8b3e-859465037cbd",
   "metadata": {},
   "outputs": [],
   "source": [
    "training_data.show()"
   ]
  },
  {
   "cell_type": "code",
   "execution_count": null,
   "id": "d4d73f4c-a584-4dba-b57f-6bc171108a78",
   "metadata": {},
   "outputs": [],
   "source": [
    "def create_sliding_windows_rdd(rdd, lag):\n",
    "    def sliding_window(index, iterator):\n",
    "        data = list(iterator)\n",
    "        x = []\n",
    "        y = []\n",
    "        for i in range(lag, len(data)):\n",
    "            x.append([list(t[1:]) for t in data[i-lag:i]])\n",
    "            y.append(data[i][1])\n",
    "        return zip(x, y)\n",
    "    \n",
    "    return rdd.mapPartitionsWithIndex(sliding_window)"
   ]
  },
  {
   "cell_type": "code",
   "execution_count": null,
   "id": "ffe3f607-6381-4c78-88a1-7bad637a4289",
   "metadata": {},
   "outputs": [],
   "source": [
    "lag=1\n",
    "\n",
    "training_windows_rdd = create_sliding_windows_rdd(training_data.rdd, lag)\n",
    "testing_windows_rdd = create_sliding_windows_rdd(testing_data.rdd, lag)\n",
    "\n",
    "\n",
    "x_train, y_train = zip(*training_windows_rdd.collect())\n",
    "x_test, y_test = zip(*testing_windows_rdd.collect())\n",
    "\n"
   ]
  },
  {
   "cell_type": "code",
   "execution_count": null,
   "id": "fe0e635e-f5e3-4c72-b08c-3281ec147106",
   "metadata": {},
   "outputs": [],
   "source": [
    "x_train"
   ]
  },
  {
   "cell_type": "code",
   "execution_count": null,
   "id": "2fdca23c-b6cb-46bc-98f4-c624c907820c",
   "metadata": {},
   "outputs": [],
   "source": [
    "def create_matrix(size1, size2):\n",
    "    limit = np.sqrt(6 / (size1 + size2))\n",
    "    return np.random.uniform(-limit, limit, size=(size1, size2))\n",
    "    "
   ]
  },
  {
   "cell_type": "code",
   "execution_count": null,
   "id": "48fdffaf-3862-4574-b645-c8d49a7548d4",
   "metadata": {},
   "outputs": [],
   "source": [
    "import numpy as np\n",
    "np.random.seed(1234)\n",
    "class GRU:\n",
    "    def __init__(self, input_size, hidden_size, output_size):\n",
    "        self.hidden_size = hidden_size\n",
    "\n",
    "        def softmax(self, x):\n",
    "            e_x = np.exp(x - np.max(x))  # Trừ max để tránh overflow\n",
    "            return e_x / e_x.sum(axis=0)\n",
    "        \n",
    "        # Initialize weights\n",
    "        self.W_z = create_matrix(hidden_size, input_size)\n",
    "        self.U_z = create_matrix(hidden_size, hidden_size)\n",
    "        self.b_z = np.zeros((hidden_size, 1))\n",
    "        \n",
    "        self.W_r = create_matrix(hidden_size, input_size)\n",
    "        self.U_r = create_matrix(hidden_size, hidden_size)\n",
    "        self.b_r = np.zeros((hidden_size, 1))\n",
    "        \n",
    "        self.W_h = create_matrix(hidden_size, input_size)\n",
    "        self.U_h = create_matrix(hidden_size, hidden_size)\n",
    "        self.b_h = np.zeros((hidden_size, 1))\n",
    "        \n",
    "        self.W_out = create_matrix(output_size, hidden_size)\n",
    "        self.b_out = np.zeros((output_size, 1))\n",
    "    \n",
    "    def sigmoid(self, x):\n",
    "        return 1 / (1 + np.exp(-x))\n",
    "    \n",
    "    def tanh(self, x):\n",
    "        return np.tanh(x)\n",
    "    \n",
    "    def forward(self, x, h_prev):\n",
    "        z_t = self.sigmoid(np.dot(self.W_z, x) + np.dot(self.U_z, h_prev) + self.b_z)\n",
    "        r_t = self.sigmoid(np.dot(self.W_r, x) + np.dot(self.U_r, h_prev) + self.b_r)\n",
    "        h_hat_t = self.tanh(np.dot(self.W_h, x) + np.dot(self.U_h, r_t * h_prev) + self.b_h)\n",
    "        h_t = (1 - z_t) * h_prev + z_t * h_hat_t\n",
    "\n",
    "        y_t = np.dot(self.W_out, h_t) + self.b_out\n",
    "        return y_t, h_t\n",
    "    \n",
    "    def train(self, X_train, y_train, learning_rate=0.001, epochs=100):\n",
    "        for epoch in range(epochs):\n",
    "            total_loss = 0\n",
    "            for i in range(len(X_train)):\n",
    "                h_prev = np.zeros((self.hidden_size, 1))\n",
    "                for t in range(len(X_train[i])):\n",
    "                    x_t = np.array(X_train[i][t]).reshape(-1, 1)\n",
    "                    y_t = np.array(y_train[i]).reshape(-1, 1)\n",
    "                    \n",
    "                    # Forward với h_prev để ra y và h của hiện tại (biến tên h_prev vì nó sẽ lưu lại và sử dụng cho lượt tiếp theo)\n",
    "                    y_pred, h_prev = self.forward(x_t, h_prev)\n",
    "                    \n",
    "                    # Tính hàm mất mát\n",
    "                    loss = np.mean((y_pred - y_t) ** 2)\n",
    "                    total_loss += loss\n",
    "                    \n",
    "                    # Backward pass (Gradient Descent)\n",
    "                    grad_y_pred = 2 * (y_pred - y_t)\n",
    "                    self.W_out -= learning_rate * np.dot(grad_y_pred, h_prev.T)\n",
    "                    self.b_out -= learning_rate * grad_y_pred\n",
    "            \n",
    "            print(f'Epoch {epoch + 1}/{epochs}, Loss: {total_loss / len(X_train)}')\n",
    "\n",
    "    def predict(self, X_test):\n",
    "        predictions = []\n",
    "        for i in range(len(X_test)):\n",
    "            h_prev = np.zeros((self.hidden_size, 1))\n",
    "            for t in range(len(X_test[i])):\n",
    "                x_t = np.array(X_test[i][t]).reshape(-1, 1)\n",
    "                \n",
    "                # Forward pass\n",
    "                y_pred, h_prev = self.forward(x_t, h_prev)\n",
    "            \n",
    "            predictions.append(y_pred.flatten()[0])\n",
    "        return predictions\n",
    "\n",
    "input_size = 5\n",
    "hidden_size = 120\n",
    "output_size = 1\n",
    "gru = GRU(input_size, hidden_size, output_size)\n",
    "\n",
    "# Huấn luyện mô hình\n",
    "gru.train(x_train, y_train, learning_rate=0.001, epochs=100)\n"
   ]
  },
  {
   "cell_type": "code",
   "execution_count": null,
   "id": "167cfdac-45f7-4a5e-83b3-302e1a4519e3",
   "metadata": {},
   "outputs": [],
   "source": [
    "# Dự đoán\n",
    "predictions = gru.predict(x_test)\n",
    "print(\"Predictions:\", np.array(predictions))"
   ]
  },
  {
   "cell_type": "code",
   "execution_count": null,
   "id": "d66af4aa-abd6-49fc-97f7-46ea7a66b307",
   "metadata": {},
   "outputs": [],
   "source": [
    "y_test"
   ]
  },
  {
   "cell_type": "code",
   "execution_count": null,
   "id": "90bd73f3-359b-4eec-8ac7-eb0072c9bd4c",
   "metadata": {},
   "outputs": [],
   "source": [
    "test_date = np.array([item[0:][0] for item in testing_data.collect()])"
   ]
  },
  {
   "cell_type": "code",
   "execution_count": null,
   "id": "cb18f7b3-e92a-4344-8e45-6808dd634ec4",
   "metadata": {},
   "outputs": [],
   "source": [
    "test_date = test_date[lag:]"
   ]
  },
  {
   "cell_type": "code",
   "execution_count": null,
   "id": "33538e1d-ab2c-477c-9953-4d874b3c49bd",
   "metadata": {},
   "outputs": [],
   "source": [
    "plt.figure(num=None, figsize=(10, 4), dpi=80,facecolor='w', edgecolor='k')\n",
    "plt.title('Graph Comparison Data Actual and Data Prediction')\n",
    "plt.plot(test_date,y_test, color='red',label='Data Test')\n",
    "\n",
    "plt.plot(test_date,predictions, color='blue',label='Prediction Results')\n",
    "plt.gca().xaxis.set_major_formatter(mdates.DateFormatter(\"%Y-%m\"))\n",
    "plt.xlabel('Day')\n",
    "plt.ylabel('Price')\n",
    "plt.legend()\n",
    "plt.show()"
   ]
  },
  {
   "cell_type": "code",
   "execution_count": null,
   "id": "631839c1-1938-4beb-bafb-4ca4161be7b9",
   "metadata": {},
   "outputs": [],
   "source": [
    "mse = np.mean((np.array(predictions) - np.array(y_test)) ** 2)\n",
    "mae = np.mean(np.abs(np.array(predictions) - np.array(y_test)))\n",
    "rmse = np.sqrt(np.mean((np.array(predictions) - np.array(y_test)) ** 2))\n",
    "mape =  np.mean(np.abs((np.array(y_test) - np.array(predictions)) / y_test)) * 100"
   ]
  },
  {
   "cell_type": "code",
   "execution_count": null,
   "id": "bf44d623-0ac4-4e2e-af17-c91079d53992",
   "metadata": {},
   "outputs": [],
   "source": [
    "print('mse: ', mse)\n",
    "print('mae: ', mae)\n",
    "print('rmse: ', rmse)\n",
    "print('mape: ', mape)"
   ]
  },
  {
   "cell_type": "code",
   "execution_count": null,
   "id": "3711765e-6e2c-4420-9182-49f728d6a677",
   "metadata": {},
   "outputs": [],
   "source": [
    "def returnFromMinMax(scaled_data, col='close'):\n",
    "    min_v = des_data[col]['min']\n",
    "    max_v = des_data[col]['max']\n",
    "    data = [d  * (max_v - min_v) + min_v for d in scaled_data]\n",
    "    return data"
   ]
  },
  {
   "cell_type": "code",
   "execution_count": null,
   "id": "ee3abd3a-bb2b-4b2f-b82c-65550a7d154e",
   "metadata": {},
   "outputs": [],
   "source": [
    "predict_price = returnFromMinMax(predictions)"
   ]
  },
  {
   "cell_type": "code",
   "execution_count": null,
   "id": "8821664e-5fe0-4838-8288-186bc01bbf7c",
   "metadata": {},
   "outputs": [],
   "source": [
    "predict_price"
   ]
  },
  {
   "cell_type": "code",
   "execution_count": null,
   "id": "55c7be16-9620-4e49-a121-a977d546bbec",
   "metadata": {},
   "outputs": [],
   "source": []
  }
 ],
 "metadata": {
  "kernelspec": {
   "display_name": "Python 3 (ipykernel)",
   "language": "python",
   "name": "python3"
  },
  "language_info": {
   "codemirror_mode": {
    "name": "ipython",
    "version": 3
   },
   "file_extension": ".py",
   "mimetype": "text/x-python",
   "name": "python",
   "nbconvert_exporter": "python",
   "pygments_lexer": "ipython3",
   "version": "3.10.12"
  }
 },
 "nbformat": 4,
 "nbformat_minor": 5
}
